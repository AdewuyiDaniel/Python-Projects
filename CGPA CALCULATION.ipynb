{
 "cells": [
  {
   "cell_type": "code",
   "execution_count": null,
   "id": "88a04fae",
   "metadata": {},
   "outputs": [
    {
     "name": "stdout",
     "output_type": "stream",
     "text": [
      "0.0\n"
     ]
    }
   ],
   "source": [
    "#Lists \n",
    "classes= []\n",
    "grades = []\n",
    "\n",
    "#Collects the data of Class names and Grades in Letter Form\n",
    "def collect():\n",
    "    i = 0\n",
    "    while (i <= 5):\n",
    "        courseName = input(\"Enter Course Name: \")\n",
    "        classes.append(courseName)\n",
    "        i = i +1\n",
    "\n",
    "    print(classes)\n",
    "    y = 0\n",
    "    while (y <=5):\n",
    "        grade = input(\"Enter Your Grade For Each Class Listed in Order (Letter Form): \")\n",
    "        grades.append(grade)\n",
    "        y = y + 1\n",
    "    \n",
    "    \n",
    "    \n",
    "\n",
    "def calculate(grades):\n",
    "    total= 0\n",
    "    for element in grades:\n",
    "        if element == \"A+\":\n",
    "            total = total + 4.0\n",
    "        elif element == \"A\":\n",
    "            total = total + 4.0\n",
    "        elif element == \"A-\":\n",
    "            total = total + 3.7\n",
    "        elif element == \"B+\":\n",
    "            total = total + 3.3\n",
    "        elif element == \"B\":\n",
    "            total = total + 3.0\n",
    "        elif element == \"B-\":\n",
    "            total = total + 2.7\n",
    "        elif element == \"C+\":\n",
    "            total = total + 2.3\n",
    "        elif element == \"C\":\n",
    "            total = total + 2.0\n",
    "        elif element == \"C-\":\n",
    "            total = total + 1.7\n",
    "        elif element == \"D\":\n",
    "            total = total + 1.0\n",
    "    gpa = total / 6\n",
    "    print(gpa)\n",
    "\n",
    "cal = calculate(grades)\n",
    "cal\n",
    "collect()\n",
    "\n",
    "\n"
   ]
  },
  {
   "cell_type": "code",
   "execution_count": null,
   "id": "9af521df",
   "metadata": {},
   "outputs": [],
   "source": []
  }
 ],
 "metadata": {
  "kernelspec": {
   "display_name": "Python 3 (ipykernel)",
   "language": "python",
   "name": "python3"
  },
  "language_info": {
   "codemirror_mode": {
    "name": "ipython",
    "version": 3
   },
   "file_extension": ".py",
   "mimetype": "text/x-python",
   "name": "python",
   "nbconvert_exporter": "python",
   "pygments_lexer": "ipython3",
   "version": "3.10.9"
  }
 },
 "nbformat": 4,
 "nbformat_minor": 5
}
