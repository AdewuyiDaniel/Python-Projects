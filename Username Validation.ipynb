{
 "cells": [
  {
   "cell_type": "code",
   "execution_count": 2,
   "id": "0a5957ff",
   "metadata": {},
   "outputs": [
    {
     "name": "stdout",
     "output_type": "stream",
     "text": [
      "what is your Username: Daniels\n",
      "what is your password: @Brandnewz1\n",
      "please enter your current username: Daniels\n",
      "please enter your current password: @Brandnewz1\n",
      "welcome back to your system\n"
     ]
    }
   ],
   "source": [
    "name = input(\"what is your Username: \")\n",
    "password = input(\"what is your password: \")\n",
    "input1 = None\n",
    "input2 = None\n",
    "while input1 != name:\n",
    "    input1 = input(\"please enter your current username: \")\n",
    "while input2 != password:\n",
    "    input2 = input(\"please enter your current password: \")\n",
    "print(\"welcome back to your system\")"
   ]
  },
  {
   "cell_type": "code",
   "execution_count": null,
   "id": "2b9cab6a",
   "metadata": {},
   "outputs": [],
   "source": []
  }
 ],
 "metadata": {
  "kernelspec": {
   "display_name": "Python 3 (ipykernel)",
   "language": "python",
   "name": "python3"
  },
  "language_info": {
   "codemirror_mode": {
    "name": "ipython",
    "version": 3
   },
   "file_extension": ".py",
   "mimetype": "text/x-python",
   "name": "python",
   "nbconvert_exporter": "python",
   "pygments_lexer": "ipython3",
   "version": "3.10.9"
  }
 },
 "nbformat": 4,
 "nbformat_minor": 5
}
