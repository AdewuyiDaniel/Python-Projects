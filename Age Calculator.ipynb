{
 "cells": [
  {
   "cell_type": "code",
   "execution_count": null,
   "id": "6bd1f38d",
   "metadata": {},
   "outputs": [],
   "source": [
    "import datetime\n",
    "def print_age():\n",
    "    year = input('Enter your age (YYYY/MM/DD): ')\n",
    "    day = input('Enter your desired date (yyyy/mm/dd): ')\n",
    "    try:\n",
    "        year = [int(i) for i in year.split('/')]\n",
    "        birth_data = datetime.date(year[0], year[1], year[2])\n",
    "\n",
    "        #today = datetime.date.today()\n",
    "        day = [int(i) for i in day.split('/')]\n",
    "        dday = datetime.date(day[0], day[1], day[2])\n",
    "\n",
    "        time_diff = dday - birth_data\n",
    "\n",
    "        print('Your age is: {} year and  days'. format(\n",
    "            time_diff.days))\n",
    "    except (ValueError, KeyError):\n",
    "        # Do your error management here\n",
    "        print('Please use the format YYYY/MM/DD')\n",
    "\n",
    "print_age()"
   ]
  }
 ],
 "metadata": {
  "kernelspec": {
   "display_name": "Python 3 (ipykernel)",
   "language": "python",
   "name": "python3"
  },
  "language_info": {
   "codemirror_mode": {
    "name": "ipython",
    "version": 3
   },
   "file_extension": ".py",
   "mimetype": "text/x-python",
   "name": "python",
   "nbconvert_exporter": "python",
   "pygments_lexer": "ipython3",
   "version": "3.10.9"
  }
 },
 "nbformat": 4,
 "nbformat_minor": 5
}
